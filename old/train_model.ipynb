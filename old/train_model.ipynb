{
 "cells": [
  {
   "cell_type": "code",
   "execution_count": 1,
   "id": "0cdec6df",
   "metadata": {},
   "outputs": [],
   "source": [
    "import os\n",
    "\n",
    "import tensorflow as tf\n",
    "import tensorflow.keras as keras\n",
    "\n",
    "from keras_cv_attention_models import beit, convnext, swin_transformer_v2, davit, mobilevit, coatnet\n",
    "\n",
    "import matplotlib.pyplot as plt\n",
    "import numpy as np\n",
    "import pandas as pd\n",
    "import cv2\n",
    "from tensorflow.keras.preprocessing.image import ImageDataGenerator\n",
    "\n",
    "from PIL import Image\n",
    "from collections import defaultdict\n",
    "from tabulate import tabulate\n",
    "import pickle\n",
    "\n",
    "from sklearn.metrics import confusion_matrix, ConfusionMatrixDisplay, classification_report\n",
    "from sklearn.model_selection import train_test_split\n",
    "\n",
    "from datetime import datetime\n",
    "from time import time\n",
    "import pytz\n"
   ]
  },
  {
   "cell_type": "code",
   "execution_count": 2,
   "id": "7bd9e449",
   "metadata": {},
   "outputs": [],
   "source": [
    "orig_folder = \"../datasets/original\"\n",
    "exp_folder = \"../datasets/experiment\"\n",
    "\n",
    "orig_dataset1 = os.path.join(orig_folder, \"1\")\n",
    "orig_dataset2 = os.path.join(orig_folder, \"2/Training-validation\")\n",
    "orig_dataset3 = os.path.join(orig_folder, \"3\")\n",
    "\n",
    "exp_dataset1 = os.path.join(exp_folder, \"1\")\n",
    "exp_dataset2 = os.path.join(exp_folder, \"2\")\n",
    "exp_dataset3 = os.path.join(exp_folder, \"3\")\n",
    "\n",
    "exp_dataset4 = os.path.join(exp_folder, \"4\")\n",
    "\n",
    "CLASS_NAMES = ['normal', 'aom', 'ome', 'csom', 'myringosclerosis', 'earwax', 'tube']\n",
    "\n",
    "RANDOM_STATE = 42\n",
    "\n",
    "randomiser = np.random.RandomState(RANDOM_STATE)\n",
    "\n",
    "def timer(func):\n",
    "    # This function shows the execution time of \n",
    "    # the function object passed\n",
    "    def wrap_func(*args, **kwargs):\n",
    "        t1 = time()\n",
    "        result = func(*args, **kwargs)\n",
    "        t2 = time()\n",
    "        print(f'Function {func.__name__!r} executed in {(t2-t1):.4f}s')\n",
    "        return result\n",
    "    return wrap_func"
   ]
  },
  {
   "cell_type": "code",
   "execution_count": 3,
   "id": "e65ebaf5",
   "metadata": {},
   "outputs": [],
   "source": [
    "\"\"\"\n",
    "Takes a model and adjusts its output layer and trainable layers\n",
    "\"\"\"\n",
    "def get_model(base_model, num_outputs, extra_layer=False, num_trainable=0):\n",
    "#     removes the original output layer\n",
    "    penultimate_layer = base_model.layers[-2].output\n",
    "    \n",
    "    output = keras.layers.Dense(units=num_outputs, activation='softmax')(penultimate_layer)\n",
    "    \n",
    "#     adds an extra hidden layer with 128 neurons and a linear activation\n",
    "    if extra_layer:\n",
    "        dense_layer1 = keras.layers.Dense(units=128, activation='linear')(penultimate_layer)\n",
    "\n",
    "        output = keras.layers.Dense(units=num_outputs, activation='softmax')(dense_layer1)\n",
    "        \n",
    "    base_model = keras.models.Model(inputs=base_model.input, outputs=output)\n",
    "    \n",
    "#     make the last num_trainable layers trainable, i.e., 5 will keep the last 5 layers \n",
    "#     trainable and freeze the rest\n",
    "#     if num_trainable = 0, all layers are trainable\n",
    "    for layers in base_model.layers[:-num_trainable]:\n",
    "        layers.trainable = False\n",
    "        \n",
    "\n",
    "    return base_model"
   ]
  },
  {
   "cell_type": "code",
   "execution_count": 4,
   "id": "d04f38f3",
   "metadata": {},
   "outputs": [],
   "source": [
    "\"\"\"\n",
    "Gets the dataset to use for training, validation and testing\n",
    "\"\"\"\n",
    "\n",
    "def get_dataset(paths, class_names):\n",
    "    full_data = []\n",
    "    class_dict = {}\n",
    "    for i, name in enumerate(class_names):\n",
    "        class_dict[name] = i\n",
    "    \n",
    "    for path in paths:\n",
    "        print(path)\n",
    "        for d in class_names:\n",
    "            dirpath = os.path.join(path, d)\n",
    "            if not os.path.exists(dirpath): continue\n",
    "            print(dirpath)\n",
    "            image_files = [f for f in os.listdir(dirpath) if f.endswith(('.jpg', '.png', 'jpeg'))]\n",
    "            label = d\n",
    "            for img in image_files:\n",
    "                image = Image.open(os.path.join(dirpath, img))\n",
    "                \n",
    "                image = np.asarray(image).astype(np.float32) / 255.0\n",
    "\n",
    "                data = np.array([image, class_dict[label]], dtype=object)\n",
    "                full_data.append(data)\n",
    "    \n",
    "    full_data = np.array(full_data)\n",
    "    np.random.shuffle(full_data)\n",
    "    return full_data"
   ]
  },
  {
   "cell_type": "code",
   "execution_count": 5,
   "id": "97fcc5f8",
   "metadata": {},
   "outputs": [],
   "source": [
    "def resize_image(image, size):\n",
    "    image = tf.image.resize(image.astype(np.float32), (size, size))\n",
    "    return image"
   ]
  },
  {
   "cell_type": "code",
   "execution_count": 6,
   "id": "8029a9a1",
   "metadata": {},
   "outputs": [
    {
     "name": "stdout",
     "output_type": "stream",
     "text": [
      "../datasets/experiment/1/training\n",
      "../datasets/experiment/1/training/normal\n",
      "../datasets/experiment/1/training/ome\n",
      "../datasets/experiment/1/training/tube\n",
      "../datasets/experiment/1/validation\n",
      "../datasets/experiment/1/validation/normal\n",
      "../datasets/experiment/1/validation/ome\n",
      "../datasets/experiment/1/validation/tube\n",
      "../datasets/experiment/1/testing\n",
      "../datasets/experiment/1/testing/normal\n",
      "../datasets/experiment/1/testing/ome\n",
      "../datasets/experiment/1/testing/tube\n"
     ]
    }
   ],
   "source": [
    "base_path = exp_dataset1\n",
    "\n",
    "class_names = CLASS_NAMES\n",
    "training_set = []\n",
    "validation_set = []\n",
    "testing_set = []\n",
    "\n",
    "# For Experiments 1-3\n",
    "if not base_path == exp_dataset4:\n",
    "#     checks which classes are in the dataset being used\n",
    "    class_names = [c for c in CLASS_NAMES if c in os.listdir(os.path.join(base_path, 'training'))]\n",
    "\n",
    "    training_set = get_dataset([os.path.join(base_path, 'training')], class_names)\n",
    "    validation_set = get_dataset([os.path.join(base_path, 'validation')], class_names)\n",
    "    testing_set = get_dataset([os.path.join(base_path, 'testing')], class_names)\n",
    "\n",
    "else:\n",
    "#     change start and end to train on a subset of the combined dataset\n",
    "    start = 1\n",
    "    end = 4\n",
    "    train_paths = [os.path.join(base_path, f'{i}/training') for i in range(start, end)]\n",
    "    validation_paths = [os.path.join(base_path, f'{i}/validation') for i in range(start, end)]\n",
    "    test_paths = [os.path.join(base_path, f'{i}/testing') for i in range(start, end)]\n",
    "\n",
    "    training_set = get_dataset(train_paths, class_names)\n",
    "    validation_set = get_dataset(validation_paths, class_names)\n",
    "    testing_set = get_dataset(test_paths, class_names)   "
   ]
  },
  {
   "cell_type": "code",
   "execution_count": 7,
   "id": "d7bd8f8a",
   "metadata": {},
   "outputs": [],
   "source": [
    "# Separate the full data containing images and labels inside tuples into a train and test set\n",
    "\n",
    "X_train = np.array([x[0] for x in training_set], dtype=object)\n",
    "y_train = np.array([y[1] for y in training_set], dtype=np.uint8)\n",
    "\n",
    "X_val = np.array([x[0] for x in validation_set], dtype=object)\n",
    "y_val = np.array([y[1] for y in validation_set], dtype=np.uint8)\n",
    "\n",
    "X_test = np.array([x[0] for x in testing_set], dtype=object)\n",
    "y_test = np.array([y[1] for y in testing_set], dtype=np.uint8)"
   ]
  },
  {
   "cell_type": "code",
   "execution_count": 8,
   "id": "be5aec68",
   "metadata": {},
   "outputs": [
    {
     "name": "stdout",
     "output_type": "stream",
     "text": [
      "['normal', 'ome', 'tube']\n",
      "[113 113  60]\n",
      "[48 48 26]\n",
      "[18 18 10]\n"
     ]
    }
   ],
   "source": [
    "# Used to check the sample size for the different classes\n",
    "print(class_names)\n",
    "print(np.bincount(y_train))\n",
    "print(np.bincount(y_val))\n",
    "print(np.bincount(y_test))"
   ]
  },
  {
   "cell_type": "code",
   "execution_count": 15,
   "id": "fd3f9295",
   "metadata": {},
   "outputs": [
    {
     "name": "stdout",
     "output_type": "stream",
     "text": [
      ">>>> Load pretrained from: /home/ubuntu/.keras/models/convnext_base_224_imagenet21k-ft1k.h5\n",
      ">>>> Load pretrained from: /home/ubuntu/.keras/models/davit_b_imagenet.h5\n",
      ">>>> Load pretrained from: /home/ubuntu/.keras/models/mobilevit_s_imagenet.h5\n"
     ]
    }
   ],
   "source": [
    "# different variables based on input size and pretrain dataset\n",
    "\n",
    "input_shape224 = (224, 224, 3)\n",
    "input_shape256 = (256, 256, 3)\n",
    "input_shape384 = (384, 384, 3)\n",
    "\n",
    "imagenet = \"imagenet\"\n",
    "imagenet21k = 'imagenet21k-ft1k'\n",
    "imagenet22k = 'imagenet22k'\n",
    "\n",
    "# loads and stores the base models\n",
    "base_models = {\n",
    "    'convBase': convnext.ConvNeXtBase(input_shape=input_shape224, pretrained=imagenet21k),\n",
    "    'daViT_B': davit.DaViT_B(input_shape224, pretrained=imagenet),\n",
    "    'MobileViT_S': mobilevit.MobileViT_S(input_shape=input_shape256, pretrained=imagenet),\n",
    "    'vgg19': tf.keras.applications.VGG19(\n",
    "        include_top=True,\n",
    "        weights=imagenet,\n",
    "        classifier_activation=\"softmax\",\n",
    "    )\n",
    "\n",
    "}\n",
    "\n",
    "# the models to traain\n",
    "# base models are modified by changing trainable or output layers\n",
    "models = [\n",
    "    ('MobileViT_S', get_model(base_models['MobileViT_S'], len(class_names), True, 0)),\n",
    "    ('vgg19', get_model(base_models['vgg19'], len(class_names), True, 0)),\n",
    "    ('daViT_B', get_model(base_models['daViT_B'], len(class_names), True, 0)),\n",
    "    ('convBase', get_model(base_models['convBase'], len(class_names), True, 0))\n",
    "    \n",
    "]"
   ]
  },
  {
   "cell_type": "code",
   "execution_count": 16,
   "id": "22d0c648",
   "metadata": {},
   "outputs": [
    {
     "name": "stdout",
     "output_type": "stream",
     "text": [
      "../models/1\n"
     ]
    }
   ],
   "source": [
    "# sets the folder to save the models to based on the dataset being used\n",
    "model_base_folders = {\n",
    "    exp_dataset1: '../models/1',\n",
    "    exp_dataset2: '../models/2',\n",
    "    exp_dataset3: '../models/3',\n",
    "    exp_dataset4: '../models/4'\n",
    "}\n",
    "\n",
    "model_base_folder = model_base_folders[base_path]\n",
    "\n",
    "print(model_base_folder)"
   ]
  },
  {
   "cell_type": "code",
   "execution_count": 17,
   "id": "0394f151",
   "metadata": {
    "scrolled": true
   },
   "outputs": [
    {
     "name": "stdout",
     "output_type": "stream",
     "text": [
      "18/18 [==============================] - 21s 718ms/step - loss: 1.1123 - accuracy: 0.3584 - val_loss: 1.0271 - val_accuracy: 0.5410\n",
      "INFO:tensorflow:Assets written to: ../models/1/MobileViT_S_test/assets\n",
      "18/18 [==============================] - 6s 288ms/step - loss: 4.8479 - accuracy: 0.3138 - val_loss: 1.3933 - val_accuracy: 0.3934\n",
      "INFO:tensorflow:Assets written to: ../models/1/vgg19_test/assets\n",
      "18/18 [==============================] - 52s 1s/step - loss: 1.1167 - accuracy: 0.3462 - val_loss: 1.0411 - val_accuracy: 0.5164\n",
      "INFO:tensorflow:Assets written to: ../models/1/daViT_B_test/assets\n",
      "18/18 [==============================] - 41s 1s/step - loss: 1.3082 - accuracy: 0.4450 - val_loss: 0.9358 - val_accuracy: 0.5574\n",
      "INFO:tensorflow:Assets written to: ../models/1/convBase_test/assets\n"
     ]
    }
   ],
   "source": [
    "# note: for demonstration purposes, I have trained four test models for 1 epoch\n",
    "\n",
    "histories = []\n",
    "\n",
    "# chosen hyperparameters for training\n",
    "EPOCHS = 50\n",
    "BATCH_SIZE = 16\n",
    "LEARNING_RATE = 0.001\n",
    "\n",
    "\"\"\"\n",
    "Trains the models and saves the history\n",
    "Saves only the best weights of the model by using call backs\n",
    "\"\"\"\n",
    "\n",
    "for m in models:\n",
    "    model_name = m[0]\n",
    "    model = m[1]\n",
    "    \n",
    "#     resizes images based on input size\n",
    "    img_size = model.layers[0].input_shape[0][1]\n",
    "    X_train2 = np.array([resize_image(x, img_size) for x in X_train])\n",
    "    X_val2 = np.array([resize_image(x, img_size) for x in X_val])\n",
    "    X_test2 = np.array([resize_image(x, img_size) for x in X_test])\n",
    "    \n",
    "#     early stopping callback to stop training if model is not improving\n",
    "    early_stopping = keras.callbacks.EarlyStopping(\n",
    "        monitor=\"val_loss\",\n",
    "        min_delta=0.0001,\n",
    "        patience=10,\n",
    "        verbose=1,\n",
    "        mode=\"min\",\n",
    "        restore_best_weights=True\n",
    "    )\n",
    "\n",
    "    # To frequently save the best model while training so progress is not lost\n",
    "    model_checkpoint_cb = keras.callbacks.ModelCheckpoint(\n",
    "        filepath=f\"{model_base_folder}/{model_name}\", \n",
    "        monitor='val_loss',\n",
    "        mode=\"min\",\n",
    "        save_best_only=True\n",
    "    )\n",
    "    \n",
    "    loss = tf.keras.losses.SparseCategoricalCrossentropy()\n",
    "    \n",
    "    # compiling the model to use for training\n",
    "    opt = tf.keras.optimizers.SGD(learning_rate=LEARNING_RATE)\n",
    "    model.compile(loss=loss, optimizer=opt, metrics=[\"accuracy\"])\n",
    "    callbacks = [early_stopping, model_checkpoint_cb]\n",
    "    \n",
    "#     if validation test size is 0, use test set for validation\n",
    "    val_X = X_val2 if len(X_val2) > 0 else X_test2\n",
    "    val_y = y_val if len(X_val2) > 0 else y_test\n",
    "    \n",
    "#     train the model and store the results in history\n",
    "    history = model.fit(X_train2, y_train, epochs=EPOCHS, batch_size=BATCH_SIZE, validation_data=(val_X, val_y),  \n",
    "                        callbacks=callbacks, verbose=True)\n",
    "    \n",
    "#     save the history into a file with the same name as the model\n",
    "    np.save(f\"{model_base_folder}/{model_name}.npy\",history.history)\n",
    "    histories.append(history.history)\n",
    "    "
   ]
  },
  {
   "cell_type": "code",
   "execution_count": 33,
   "id": "e5cfc749",
   "metadata": {},
   "outputs": [],
   "source": [
    "\"\"\"\n",
    "Takes the history from training the model and graphs accuracy vs epoch and loss vs epoch\n",
    "\"\"\"\n",
    "def draw_graph(history):\n",
    "\n",
    "    if 'history' in history:\n",
    "        history = history.history\n",
    "        \n",
    "    plt.figure(figsize=(8,5))\n",
    "    plt.plot(history['accuracy'])\n",
    "    plt.plot(history['val_accuracy'])\n",
    "    plt.title('model accuracy')\n",
    "    plt.ylabel('accuracy')\n",
    "    plt.xlabel('epoch')\n",
    "    plt.legend(['train', 'val'], loc='upper left')\n",
    "    best_epoch = np.argmin(history['val_loss'])\n",
    "    \n",
    "    plt.axvline(x=best_epoch, color='r', linestyle='--')\n",
    "    plt.text(min(best_epoch+1, 38), 0.7, f\"best epoch = {best_epoch}\")\n",
    "\n",
    "    plt.show()\n",
    "    \n",
    "    plt.figure(figsize=(8,5))\n",
    "    plt.plot(history['loss'])\n",
    "    plt.plot(history['val_loss'])\n",
    "    plt.title('model loss')\n",
    "    plt.ylabel('loss')\n",
    "    plt.xlabel('epoch')\n",
    "    plt.legend(['train', 'val'], loc='upper left')\n",
    "    best_epoch = np.argmin(history['val_loss'])\n",
    "    \n",
    "    \n",
    "    plt.axvline(x=best_epoch, color='r', linestyle='--')\n",
    "    plt.text(min(best_epoch+1, 38), 0.9, f\"best epoch = {best_epoch}\")\n"
   ]
  },
  {
   "cell_type": "code",
   "execution_count": 34,
   "id": "83162f20",
   "metadata": {},
   "outputs": [],
   "source": [
    "\"\"\"\n",
    "Compute the statistics, binary accuracy, accuracy, sensitivity, specificity and ppv\n",
    "Used to check statistics right after training\n",
    "\"\"\"\n",
    "\n",
    "def get_metrics(matrix):\n",
    "    b_acc = []\n",
    "    acc = []\n",
    "    sens = []\n",
    "    spec = []\n",
    "    ppv = []\n",
    "\n",
    "    for i, c in enumerate(class_names[:len(matrix)]):\n",
    "        TP = matrix[i][i]\n",
    "        FN = matrix.sum(axis=1)[i] - TP\n",
    "        FP = matrix.sum(axis=0)[i] - TP\n",
    "        TN = matrix.sum() - TP - FN - FP\n",
    "        \n",
    "        # Only use classes with a support greater than 0\n",
    "        if (matrix.sum(axis=1)[i]) < 1: continue\n",
    "\n",
    "        b_acc.append((TP+TN) / (TP+FN+FP+TN))\n",
    "        acc.append((TP) / (TP+FN+FP+TN))\n",
    "        sens.append((TP) / (TP+FN))\n",
    "        spec.append((TN) / (TN+FP))\n",
    "        ppv.append((TP) / (TP + FP))\n",
    "\n",
    "    print(np.nanmean(b_acc))\n",
    "    print(np.sum(acc))\n",
    "    print(np.nanmean(sens))\n",
    "    print(np.nanmean(spec))\n",
    "    print(np.nanmean(ppv))\n",
    "    f1 = 2*(np.nanmean(ppv)*np.nanmean(sens) / (np.nanmean(ppv) + np.nanmean(sens)))\n",
    "    print(f1)"
   ]
  },
  {
   "cell_type": "code",
   "execution_count": 35,
   "id": "fc5ad3a6",
   "metadata": {},
   "outputs": [],
   "source": [
    "\"\"\"\n",
    "Show the statistics of the model\n",
    "Shows the confusion matrics and the selected metrics\n",
    "Note: the model may not have the best weights as model weights are overwritten every epoch\n",
    "Use statistics file and load the model and test to get more accurate results\n",
    "\"\"\"\n",
    "\n",
    "def show_statistics(model, X_test=X_test, y_test=y_test):\n",
    "    # predict on the testing set to obtain a probability for each class\n",
    "    y_pred=model.predict(X_test)\n",
    "    \n",
    "#     Uncomment to see the top-2 accuracy probability and value\n",
    "#     print(top_k_accuracy_score(y_test, y_pred, k=2))\n",
    "#     print(top_k_accuracy_score(y_test, y_pred, k=2, normalize=False))\n",
    "    \n",
    "        # use the highest probability to obtain the actual prediction\n",
    "    y_pred=np.argmax(y_pred,axis=1)\n",
    "    \n",
    "    # display confusion matrix\n",
    "    cm = confusion_matrix(y_test, y_pred)\n",
    "    names = [class_names[i] for i in sorted(np.unique(y_pred))]\n",
    "    \n",
    "    disp = ConfusionMatrixDisplay(confusion_matrix=cm,\n",
    "                                 display_labels=names)\n",
    "    \n",
    "    plt.rcParams[\"figure.figsize\"] = (5,5)\n",
    "    disp.plot(cmap=\"Greys\", xticks_rotation=\"vertical\")\n",
    "    \n",
    "    # Print table of metrics and evaluations\n",
    "    print(classification_report(y_test, y_pred, target_names=names, zero_division=0))\n",
    "    \n",
    "    # Show model summary\n",
    "#     model.summary()\n",
    "    get_metrics(cm)\n"
   ]
  },
  {
   "cell_type": "code",
   "execution_count": 36,
   "id": "6b11f417",
   "metadata": {
    "scrolled": false
   },
   "outputs": [
    {
     "name": "stdout",
     "output_type": "stream",
     "text": [
      "              precision    recall  f1-score   support\n",
      "\n",
      "      normal       0.48      0.72      0.58        18\n",
      "         ome       0.50      0.28      0.36        18\n",
      "        tube       0.44      0.40      0.42        10\n",
      "\n",
      "    accuracy                           0.48        46\n",
      "   macro avg       0.48      0.47      0.45        46\n",
      "weighted avg       0.48      0.48      0.46        46\n",
      "\n",
      "0.6521739130434783\n",
      "0.47826086956521735\n",
      "0.4666666666666666\n",
      "0.7275132275132276\n",
      "0.4753086419753086\n",
      "0.47094801223241584\n"
     ]
    },
    {
     "data": {
      "image/png": "[encoded data removed]",
      "text/plain": [
       "<Figure size 360x360 with 2 Axes>"
      ]
     },
     "metadata": {
      "needs_background": "light"
     },
     "output_type": "display_data"
    },
    {
     "data": {
      "text/plain": [
       "<Figure size 576x360 with 0 Axes>"
      ]
     },
     "metadata": {},
     "output_type": "display_data"
    },
    {
     "data": {
      "image/png": "[encoded data removed]",
      "text/plain": [
       "<Figure size 576x360 with 1 Axes>"
      ]
     },
     "metadata": {
      "needs_background": "light"
     },
     "output_type": "display_data"
    },
    {
     "data": {
      "image/png": "[encoded data removed]",
      "text/plain": [
       "<Figure size 576x360 with 1 Axes>"
      ]
     },
     "metadata": {
      "needs_background": "light"
     },
     "output_type": "display_data"
    }
   ],
   "source": [
    "# shows the graph and history of the models that were trained\n",
    "for i, m in enumerate(models[:1]):\n",
    "    img_size = m[1].layers[0].input_shape[0][1] \n",
    "    X_test2 = np.array([resize_image(x, img_size) for x in X_test])\n",
    "    \n",
    "    show_statistics(m[1], X_test2, y_test)\n",
    "    plt.figure(figsize=(8,5))\n",
    "    draw_graph(histories[i])\n",
    "    "
   ]
  },
  {
   "cell_type": "code",
   "execution_count": null,
   "id": "ad91af03",
   "metadata": {},
   "outputs": [],
   "source": []
  }
 ],
 "metadata": {
  "kernelspec": {
   "display_name": "Python 3",
   "language": "python",
   "name": "python3"
  },
  "language_info": {
   "codemirror_mode": {
    "name": "ipython",
    "version": 3
   },
   "file_extension": ".py",
   "mimetype": "text/x-python",
   "name": "python",
   "nbconvert_exporter": "python",
   "pygments_lexer": "ipython3",
   "version": "3.6.9"
  }
 },
 "nbformat": 4,
 "nbformat_minor": 5
}
